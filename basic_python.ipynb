{
  "nbformat": 4,
  "nbformat_minor": 0,
  "metadata": {
    "colab": {
      "provenance": [],
      "authorship_tag": "ABX9TyNYsf6W++GLlZWibjcsfYqy",
      "include_colab_link": true
    },
    "kernelspec": {
      "name": "python3",
      "display_name": "Python 3"
    },
    "language_info": {
      "name": "python"
    }
  },
  "cells": [
    {
      "cell_type": "markdown",
      "metadata": {
        "id": "view-in-github",
        "colab_type": "text"
      },
      "source": [
        "<a href=\"https://colab.research.google.com/github/238w1a02a7-crypto/basic-python-programing/blob/main/basic_python.ipynb\" target=\"_parent\"><img src=\"https://colab.research.google.com/assets/colab-badge.svg\" alt=\"Open In Colab\"/></a>"
      ]
    },
    {
      "cell_type": "code",
      "execution_count": 3,
      "metadata": {
        "colab": {
          "base_uri": "https://localhost:8080/"
        },
        "id": "WONLQWmcKNvy",
        "outputId": "8166c34b-7526-45d5-b420-34be121d32aa"
      },
      "outputs": [
        {
          "output_type": "stream",
          "name": "stdout",
          "text": [
            "chandu\n"
          ]
        }
      ],
      "source": [
        "#print name\n",
        "print(\"chandu\")"
      ]
    },
    {
      "cell_type": "code",
      "source": [
        "#using input fun\n",
        "s=input(\"enter your name\")\n",
        "print(s)"
      ],
      "metadata": {
        "colab": {
          "base_uri": "https://localhost:8080/"
        },
        "id": "xcP_MlACME7H",
        "outputId": "f7f1fcfb-ea18-49cc-989b-2ac8f522cea6"
      },
      "execution_count": 4,
      "outputs": [
        {
          "output_type": "stream",
          "name": "stdout",
          "text": [
            "enter your namechandu\n",
            "chandu\n"
          ]
        }
      ]
    },
    {
      "cell_type": "code",
      "source": [
        "#print full name\n",
        "a=input(\"enter the first name\")\n",
        "b=input(\"enter the second name\")\n",
        "c=a+b\n",
        "print(c)"
      ],
      "metadata": {
        "colab": {
          "base_uri": "https://localhost:8080/"
        },
        "id": "vapwNCP6MOjw",
        "outputId": "bfb6871e-958f-4e67-fb5f-a09f0ffe19be"
      },
      "execution_count": 5,
      "outputs": [
        {
          "output_type": "stream",
          "name": "stdout",
          "text": [
            "enter the first namechandu\n",
            "enter the second namemanoj\n",
            "chandumanoj\n"
          ]
        }
      ]
    },
    {
      "cell_type": "code",
      "source": [
        "#sum of two numbers\n",
        "a=int(input(\"enter the first number\"))\n",
        "b=int(input(\"enter the second number\"))\n",
        "c=a+b\n",
        "c"
      ],
      "metadata": {
        "colab": {
          "base_uri": "https://localhost:8080/"
        },
        "id": "lYSI4-qvMZgQ",
        "outputId": "cf13806a-1807-4e45-aee5-dc15a0b3626f"
      },
      "execution_count": 6,
      "outputs": [
        {
          "name": "stdout",
          "output_type": "stream",
          "text": [
            "enter the first number5\n",
            "enter the second number8\n"
          ]
        },
        {
          "output_type": "execute_result",
          "data": {
            "text/plain": [
              "13"
            ]
          },
          "metadata": {},
          "execution_count": 6
        }
      ]
    },
    {
      "cell_type": "code",
      "source": [
        "#swap two numbers without 3rd variable\n",
        "a=int(input(\"enter the first number\"))\n",
        "b=int(input(\"enter the second number\"))\n",
        "a=a+b\n",
        "b=a-b\n",
        "a=a-b\n",
        "print(a,b)"
      ],
      "metadata": {
        "colab": {
          "base_uri": "https://localhost:8080/"
        },
        "id": "pXIOBWEdMhEA",
        "outputId": "017b0eef-c88c-414d-8223-d479cdb10675"
      },
      "execution_count": 7,
      "outputs": [
        {
          "output_type": "stream",
          "name": "stdout",
          "text": [
            "enter the first number6\n",
            "enter the second number8\n",
            "8 6\n"
          ]
        }
      ]
    },
    {
      "cell_type": "code",
      "source": [
        "#to print primitive datatypes\n",
        "a=5\n",
        "b=1.4\n",
        "c=True\n",
        "print(type(a))\n",
        "print(type(b))\n",
        "print(type(c))\n",
        ""
      ],
      "metadata": {
        "colab": {
          "base_uri": "https://localhost:8080/"
        },
        "id": "I-WHMqP-MZi6",
        "outputId": "e8b6e243-71c0-4cc2-d748-50c0884d3705"
      },
      "execution_count": 8,
      "outputs": [
        {
          "output_type": "stream",
          "name": "stdout",
          "text": [
            "<class 'int'>\n",
            "<class 'float'>\n",
            "<class 'bool'>\n"
          ]
        }
      ]
    },
    {
      "cell_type": "code",
      "source": [
        "#to print non-primitive datatypes\n",
        "a=(1,2,3)\n",
        "b=[1,2,3]\n",
        "c={1,2,3,4,5}\n",
        "d={1:\"a\",2:\"b\"}\n",
        "print(type(a))\n",
        "print(type(b))\n",
        "print(type(c))\n",
        "print(type(d))\n",
        ""
      ],
      "metadata": {
        "colab": {
          "base_uri": "https://localhost:8080/"
        },
        "id": "6n8o8WjbMZln",
        "outputId": "de30bd40-5d69-4b91-ef8a-343fa97dfda1"
      },
      "execution_count": 9,
      "outputs": [
        {
          "output_type": "stream",
          "name": "stdout",
          "text": [
            "<class 'tuple'>\n",
            "<class 'list'>\n",
            "<class 'set'>\n",
            "<class 'dict'>\n"
          ]
        }
      ]
    },
    {
      "cell_type": "code",
      "source": [
        "a=int(input(\"enter the number\"))\n",
        "print(a**2)\n",
        ""
      ],
      "metadata": {
        "colab": {
          "base_uri": "https://localhost:8080/"
        },
        "id": "cj67MNVDMZnq",
        "outputId": "d76eadb1-1cba-45e5-c9c7-466cb3eaa426"
      },
      "execution_count": 10,
      "outputs": [
        {
          "output_type": "stream",
          "name": "stdout",
          "text": [
            "enter the number6\n",
            "36\n"
          ]
        }
      ]
    },
    {
      "cell_type": "code",
      "source": [
        "a=int(input(\"enter the first number\"))\n",
        "b=int(input(\"enter the second number\"))\n",
        "c=int(input(\"enter the third number\"))\n",
        "print((a+b+c)//3)\n",
        ""
      ],
      "metadata": {
        "colab": {
          "base_uri": "https://localhost:8080/"
        },
        "id": "tEzWhRwlMZqB",
        "outputId": "0c6a76e7-b4e9-4456-c873-19cec4a77b6a"
      },
      "execution_count": 11,
      "outputs": [
        {
          "output_type": "stream",
          "name": "stdout",
          "text": [
            "enter the first number3\n",
            "enter the second number3\n",
            "enter the third number5\n",
            "3\n"
          ]
        }
      ]
    },
    {
      "cell_type": "code",
      "source": [
        "# Program to multiply input by 10\n",
        "\n",
        "num = int(input(\"Enter a number: \"))\n",
        "result = num * 10\n",
        "print(\"Result after multiplying by 10:\", result)"
      ],
      "metadata": {
        "colab": {
          "base_uri": "https://localhost:8080/"
        },
        "id": "9uSvN9mVNRE9",
        "outputId": "d04d49be-cf72-442c-c2dd-a67c29d02db1"
      },
      "execution_count": 13,
      "outputs": [
        {
          "output_type": "stream",
          "name": "stdout",
          "text": [
            "Enter a number: 6\n",
            "Result after multiplying by 10: 60\n"
          ]
        }
      ]
    },
    {
      "cell_type": "code",
      "source": [
        "# Program to convert minutes to seconds\n",
        "\n",
        "minutes = int(input(\"Enter time in minutes: \"))\n",
        "seconds = minutes * 60\n",
        "print(minutes, \"minutes =\", seconds, \"seconds\")\n"
      ],
      "metadata": {
        "colab": {
          "base_uri": "https://localhost:8080/"
        },
        "id": "oDhwrf2GNbqm",
        "outputId": "b0764cf0-9b54-4bb0-8364-a75b52aa0222"
      },
      "execution_count": 14,
      "outputs": [
        {
          "output_type": "stream",
          "name": "stdout",
          "text": [
            "Enter time in minutes: 55\n",
            "55 minutes = 3300 seconds\n"
          ]
        }
      ]
    },
    {
      "cell_type": "code",
      "source": [
        "# Program to find largest of three numbers\n",
        "\n",
        "a = float(input(\"Enter first number: \"))\n",
        "b = float(input(\"Enter second number: \"))\n",
        "c = float(input(\"Enter third number: \"))\n",
        "\n",
        "largest = max(a, b, c)\n",
        "print(\"The largest number is:\", largest)"
      ],
      "metadata": {
        "colab": {
          "base_uri": "https://localhost:8080/"
        },
        "id": "gDiAivNMNbwf",
        "outputId": "e856bda7-f8de-471d-9b4c-3e9d813112cc"
      },
      "execution_count": 15,
      "outputs": [
        {
          "output_type": "stream",
          "name": "stdout",
          "text": [
            "Enter first number: 2\n",
            "Enter second number: 99\n",
            "Enter third number: 9\n",
            "The largest number is: 99.0\n"
          ]
        }
      ]
    },
    {
      "cell_type": "code",
      "source": [
        "# Program to find sum of first n natural, even, and odd numbers\n",
        "\n",
        "n = int(input(\"Enter a positive integer: \"))\n"
      ],
      "metadata": {
        "colab": {
          "base_uri": "https://localhost:8080/"
        },
        "id": "2kJf_23sNby5",
        "outputId": "13a9f646-bcee-458d-b821-58daa8b15f4d"
      },
      "execution_count": 16,
      "outputs": [
        {
          "name": "stdout",
          "output_type": "stream",
          "text": [
            "Enter a positive integer: 4\n"
          ]
        }
      ]
    },
    {
      "cell_type": "code",
      "source": [
        "# Sum of first n odd numbers: 1 + 3 + 5 + ... + (2n-1) = n^2\n",
        "sum_odd = n * n\n",
        "\n",
        "print(\"Sum of first\", n, \"natural numbers:\", sum_natural)\n",
        "print(\"Sum of first\", n, \"even numbers:\", sum_even)\n",
        "print(\"Sum of first\", n, \"odd numbers:\", sum_odd)"
      ],
      "metadata": {
        "colab": {
          "base_uri": "https://localhost:8080/"
        },
        "id": "6HMbJYqrNb_e",
        "outputId": "a8b81297-f62e-4fca-9b6a-30cb82762415"
      },
      "execution_count": 25,
      "outputs": [
        {
          "output_type": "stream",
          "name": "stdout",
          "text": [
            "Sum of first 4 natural numbers: 10\n",
            "Sum of first 4 even numbers: 20\n",
            "Sum of first 4 odd numbers: 16\n"
          ]
        }
      ]
    },
    {
      "cell_type": "code",
      "source": [
        "# Program to check if number is positive, negative or zero\n",
        "\n",
        "num = float(input(\"Enter a number: \"))\n",
        "\n",
        "if num > 0:\n",
        "    print(\"The number is Positive\")\n",
        "elif num < 0:\n",
        "    print(\"The number is Negative\")\n",
        "else:\n",
        "    print(\"The number is Zero\")"
      ],
      "metadata": {
        "colab": {
          "base_uri": "https://localhost:8080/"
        },
        "id": "jvXDwxFrOtrO",
        "outputId": "c2f773da-586a-4202-c9e4-d81ad6cd71c7"
      },
      "execution_count": 26,
      "outputs": [
        {
          "output_type": "stream",
          "name": "stdout",
          "text": [
            "Enter a number: 6\n",
            "The number is Positive\n"
          ]
        }
      ]
    },
    {
      "cell_type": "code",
      "source": [
        "# Program to check odd or even\n",
        "\n",
        "num = int(input(\"Enter an integer: \"))\n",
        "\n",
        "if num % 2 == 0:\n",
        "    print(num, \"is Even\")\n",
        "else:\n",
        "    print(num, \"is Odd\")"
      ],
      "metadata": {
        "colab": {
          "base_uri": "https://localhost:8080/"
        },
        "id": "6rFNfSc7Ott3",
        "outputId": "83edf06c-f841-427e-e486-84cb4b3e91b4"
      },
      "execution_count": 27,
      "outputs": [
        {
          "output_type": "stream",
          "name": "stdout",
          "text": [
            "Enter an integer: 7\n",
            "7 is Odd\n"
          ]
        }
      ]
    },
    {
      "cell_type": "code",
      "source": [
        "# Program to check if number is divisible by 5 and 11\n",
        "\n",
        "num = int(input(\"Enter an integer: \"))\n",
        "\n",
        "if num % 5 == 0 and num % 11 == 0:\n",
        "    print(num, \"is divisible by both 5 and 11\")\n",
        "else:\n",
        "    print(num, \"is NOT divisible by both 5 and 11\")"
      ],
      "metadata": {
        "colab": {
          "base_uri": "https://localhost:8080/"
        },
        "id": "WybNt7eQOtzM",
        "outputId": "cf3cd311-7466-4a7e-b8bb-11d54c4934d2"
      },
      "execution_count": 29,
      "outputs": [
        {
          "output_type": "stream",
          "name": "stdout",
          "text": [
            "Enter an integer: 6\n",
            "6 is NOT divisible by both 5 and 11\n"
          ]
        }
      ]
    },
    {
      "cell_type": "code",
      "source": [
        "# Program to check grade using marks\n",
        "\n",
        "marks = int(input(\"Enter your marks (0-100): \"))\n",
        "\n",
        "if marks >= 90:\n",
        "    grade = \"A+\"\n",
        "elif marks >= 80:\n",
        "    grade = \"A\"\n",
        "elif marks >= 70:\n",
        "    grade = \"B\"\n",
        "elif marks >= 60:\n",
        "    grade = \"C\"\n",
        "elif marks >= 50:\n",
        "    grade = \"D\"\n",
        "elif marks >= 35:\n",
        "    grade = \"E\"\n",
        "else:\n",
        "    grade = \"F (Fail)\"\n",
        "\n",
        "print(\"Your Grade is:\", grade)"
      ],
      "metadata": {
        "colab": {
          "base_uri": "https://localhost:8080/"
        },
        "id": "kJRwdF2CPJJc",
        "outputId": "7c7f6b31-20f8-4560-bef1-71355f2a4fee"
      },
      "execution_count": 30,
      "outputs": [
        {
          "output_type": "stream",
          "name": "stdout",
          "text": [
            "Enter your marks (0-100): 93\n",
            "Your Grade is: A+\n"
          ]
        }
      ]
    },
    {
      "cell_type": "code",
      "source": [
        "# Program to check the day of the week\n",
        "\n",
        "day = int(input(\"Enter a number (1-7): \"))\n",
        "\n",
        "if day == 1:\n",
        "    print(\"Sunday\")\n",
        "elif day == 2:\n",
        "    print(\"Monday\")\n",
        "elif day == 3:\n",
        "    print(\"Tuesday\")\n",
        "elif day == 4:\n",
        "    print(\"Wednesday\")\n",
        "elif day == 5:\n",
        "    print(\"Thursday\")\n",
        "elif day == 6:\n",
        "    print(\"Friday\")\n",
        "elif day == 7:\n",
        "    print(\"Saturday\")\n",
        "else:\n",
        "    print(\"Invalid input! Please enter a number between 1 and 7.\")"
      ],
      "metadata": {
        "colab": {
          "base_uri": "https://localhost:8080/"
        },
        "id": "a3vdO24sPPcF",
        "outputId": "ffe06a31-35a5-477d-8307-df398c7f068a"
      },
      "execution_count": 31,
      "outputs": [
        {
          "output_type": "stream",
          "name": "stdout",
          "text": [
            "Enter a number (1-7): 7\n",
            "Saturday\n"
          ]
        }
      ]
    },
    {
      "cell_type": "code",
      "source": [
        "# simple credential check\n",
        "username = input(\"Enter username: \")\n",
        "password = input(\"Enter password: \")\n"
      ],
      "metadata": {
        "colab": {
          "base_uri": "https://localhost:8080/"
        },
        "id": "1PgJmno3PPer",
        "outputId": "f3feeacf-a2b7-46cf-a2cc-cb10303cce4b"
      },
      "execution_count": 32,
      "outputs": [
        {
          "name": "stdout",
          "output_type": "stream",
          "text": [
            "Enter username: chandu\n",
            "Enter password: abc123\n"
          ]
        }
      ]
    },
    {
      "cell_type": "code",
      "source": [
        "# hardcoded credentials\n",
        "correct_user = \"admin\"\n",
        "correct_pass = \"password123\"\n",
        "\n",
        "if username == correct_user and password == correct_pass:\n",
        "    print(\"Login successful ✅\")\n",
        "else:\n",
        "    print(\"Login failed — invalid username or password ❌\")"
      ],
      "metadata": {
        "colab": {
          "base_uri": "https://localhost:8080/"
        },
        "id": "Uzsaj0hXPsml",
        "outputId": "230d23d5-b933-400a-a52a-c26000d1a066"
      },
      "execution_count": 36,
      "outputs": [
        {
          "output_type": "stream",
          "name": "stdout",
          "text": [
            "Login failed — invalid username or password ❌\n"
          ]
        }
      ]
    },
    {
      "cell_type": "code",
      "source": [
        "# Simple Arithmetic Program\n",
        "\n",
        "a = int(input(\"Enter first number: \"))\n",
        "b = int(input(\"Enter second number: \"))\n",
        "\n",
        "print(\"Addition:\", a + b)\n",
        "print(\"Subtraction:\", a - b)\n",
        "print(\"Multiplication:\", a * b)\n",
        "print(\"Division:\", a / b)"
      ],
      "metadata": {
        "colab": {
          "base_uri": "https://localhost:8080/"
        },
        "id": "1drhph3QPsrE",
        "outputId": "0f4fe0ba-1ae4-40e1-ec80-ea470668b484"
      },
      "execution_count": 37,
      "outputs": [
        {
          "output_type": "stream",
          "name": "stdout",
          "text": [
            "Enter first number: 6\n",
            "Enter second number: 8\n",
            "Addition: 14\n",
            "Subtraction: -2\n",
            "Multiplication: 48\n",
            "Division: 0.75\n"
          ]
        }
      ]
    },
    {
      "cell_type": "code",
      "source": [
        "# Program to check number of days in a month\n",
        "\n",
        "month = int(input(\"Enter month number (1-12): \"))\n",
        "\n",
        "if month == 1 or month == 3 or month == 5 or month == 7 or month == 8 or month == 10 or month == 12:\n",
        "    print(\"31 days\")\n",
        "elif month == 4 or month == 6 or month == 9 or month == 11:\n",
        "    print(\"30 days\")\n",
        "elif month == 2:\n",
        "    print(\"28 or 29 days (February)\")\n",
        "else:\n",
        "    print(\"Invalid month number! Please enter between 1 and 12.\")"
      ],
      "metadata": {
        "colab": {
          "base_uri": "https://localhost:8080/"
        },
        "id": "JQHDUyDsPstz",
        "outputId": "33771f2a-f719-46a9-d1cd-9955ff5dfb1e"
      },
      "execution_count": 38,
      "outputs": [
        {
          "output_type": "stream",
          "name": "stdout",
          "text": [
            "Enter month number (1-12): 7\n",
            "31 days\n"
          ]
        }
      ]
    },
    {
      "cell_type": "code",
      "source": [
        "# Program to check body temperature\n",
        "\n",
        "temp = float(input(\"Enter your body temperature in °C: \"))\n",
        "\n",
        "if temp >= 37.5:\n",
        "    print(\"You have Fever 🤒\")\n",
        "elif 36.0 <= temp < 37.5:\n",
        "    print(\"Your temperature is Normal 🙂\")\n",
        "else:\n",
        "    print(\"You feel Cold 🥶\")"
      ],
      "metadata": {
        "colab": {
          "base_uri": "https://localhost:8080/"
        },
        "id": "gAMgxw0cPswO",
        "outputId": "0fad87db-1c7e-4c03-c8fd-f9ac79d2db3a"
      },
      "execution_count": 40,
      "outputs": [
        {
          "output_type": "stream",
          "name": "stdout",
          "text": [
            "Enter your body temperature in °C: 37\n",
            "Your temperature is Normal 🙂\n"
          ]
        }
      ]
    },
    {
      "cell_type": "code",
      "source": [
        "# Test cases\n",
        "print(\"Test case 1: m=2, n=6 →\", sum_of_cubes(2, 6))\n",
        "print(\"Test case 2: m=4, n=4 →\", sum_of_cubes(4, 4))\n",
        "print(\"Test case 3: m=7, n=2 →\", sum_of_cubes(7, 2))"
      ],
      "metadata": {
        "colab": {
          "base_uri": "https://localhost:8080/"
        },
        "id": "Cd_dDHvvPs41",
        "outputId": "aec7e67b-83d6-4bbe-b388-476e6b73c1af"
      },
      "execution_count": 42,
      "outputs": [
        {
          "output_type": "stream",
          "name": "stdout",
          "text": [
            "Test case 1: m=2, n=6 → 440\n",
            "Test case 2: m=4, n=4 → 64\n",
            "Invalid range! m should be <= n\n",
            "Test case 3: m=7, n=2 → 0\n"
          ]
        }
      ]
    },
    {
      "cell_type": "code",
      "source": [
        "# Program to find sum of first n natural, even, and odd numbers\n",
        "\n",
        "n = int(input(\"Enter a positive integer: \"))\n",
        "\n",
        "# Sum of first n natural numbers\n",
        "sum_natural = n * (n + 1) // 2\n",
        "\n",
        "# Sum of first n even numbers: 2 + 4 + 6 + ... + 2n = n(n+1)\n",
        "sum_even = n * (n + 1)\n",
        "\n",
        "# Sum of first n odd numbers: 1 + 3 + 5 + ... + (2n-1) = n^2\n",
        "sum_odd = n * n\n",
        "\n",
        "print(\"Sum of first\", n, \"natural numbers:\", sum_natural)\n",
        "print(\"Sum of first\", n, \"even numbers:\", sum_even)\n",
        "print(\"Sum of first\", n, \"odd numbers:\", sum_odd)"
      ],
      "metadata": {
        "colab": {
          "base_uri": "https://localhost:8080/"
        },
        "id": "QDAs6tBPcJpb",
        "outputId": "411b7f2c-52db-469c-a626-744c9a19a151"
      },
      "execution_count": 43,
      "outputs": [
        {
          "output_type": "stream",
          "name": "stdout",
          "text": [
            "Enter a positive integer: 4\n",
            "Sum of first 4 natural numbers: 10\n",
            "Sum of first 4 even numbers: 20\n",
            "Sum of first 4 odd numbers: 16\n"
          ]
        }
      ]
    },
    {
      "cell_type": "code",
      "source": [
        "cart_items = []  # This will store the items added to the cart\n",
        "total_bill = 0  # Total bill for the cart\n",
        "\n",
        "def tiffen_items():\n",
        "    global total_bill\n",
        "    print(\"Welcome to Tiffen Section \\nWhat type of Tiffen you want like \\n1.Dosa \\n2.Idly \\n 3.Puri \\n4.Bajji\")\n",
        "    a = int(input(\"Enter the Tiffen you would like in (1-4): \"))\n",
        "    if a == 1:\n",
        "        price = 25\n",
        "        item = \"Dosa\"\n",
        "    elif a == 2:\n",
        "        price = 20\n",
        "        item = \"Idly\"\n",
        "    elif a == 3:\n",
        "        price = 15\n",
        "        item = \"Puri\"\n",
        "    elif a == 4:\n",
        "        price = 10\n",
        "        item = \"Bajji\"\n",
        "    else:\n",
        "        print(\"Invalid input\")\n",
        "        return\n",
        "\n",
        "    b = int(input(\"Enter the quantity you would like: \"))\n",
        "    bill = b * price\n",
        "    total_bill += bill\n",
        "    cart_items.append(f\"{item} x{b} = {bill}\")\n",
        "    print(f\"Added {item} x{b} to cart. Total price: {bill}\")"
      ],
      "metadata": {
        "id": "K8LnlCS2dmYy"
      },
      "execution_count": 45,
      "outputs": []
    },
    {
      "cell_type": "code",
      "source": [
        "cart_items = []  # This will store the items added to the cart\n",
        "total_bill = 0  # Total bill for the cart\n",
        "\n",
        "def tiffen_items():\n",
        "    global total_bill  # Declare total_bill as global\n",
        "    print(\"Welcome to Tiffen Section \\nWhat type of Tiffen you want like \\n1. Dosa \\n2. Idly \\n3. Puri \\n4. Bajji\")\n",
        "    a = int(input(\"Enter the Tiffen you would like in (1-4): \"))\n",
        "\n",
        "    # Determine item and price based on user input\n",
        "    if a == 1:\n",
        "        price = 25\n",
        "        item = \"Dosa\"\n",
        "    elif a == 2:\n",
        "        price = 20\n",
        "        item = \"Idly\"\n",
        "    elif a == 3:\n",
        "        price = 15\n",
        "        item = \"Puri\"\n",
        "    elif a == 4:\n",
        "        price = 10\n",
        "        item = \"Bajji\"\n",
        "    else:\n",
        "        print(\"Invalid input\")\n",
        "        return\n",
        "\n",
        "    # Get the quantity and calculate the total cost for the current item\n",
        "    b = int(input(\"Enter the quantity you would like: \"))\n",
        "    bill = b * price\n",
        "\n",
        "    # Update the total bill and append the item to the cart\n",
        "    total_bill += bill\n",
        "    cart_items.append(f\"{item} x{b} = {bill}\")\n",
        "\n",
        "    # Output the added item and the new total bill\n",
        "    print(f\"Added {item} x{b} to cart. Total price for this item: {bill}\")\n",
        "    print(f\"Current total bill: {total_bill}\")\n",
        "\n",
        "# Example usage:\n",
        "tiffen_items()\n",
        "\\"
      ],
      "metadata": {
        "colab": {
          "base_uri": "https://localhost:8080/"
        },
        "id": "NEzqj-gbdmhH",
        "outputId": "bd116dab-a326-4845-8050-58e126cb3230"
      },
      "execution_count": 46,
      "outputs": [
        {
          "output_type": "stream",
          "name": "stdout",
          "text": [
            "Welcome to Tiffen Section \n",
            "What type of Tiffen you want like \n",
            "1. Dosa \n",
            "2. Idly \n",
            "3. Puri \n",
            "4. Bajji\n",
            "Enter the Tiffen you would like in (1-4): 3\n",
            "Enter the quantity you would like: 7\n",
            "Added Puri x7 to cart. Total price for this item: 105\n",
            "Current total bill: 105\n"
          ]
        }
      ]
    },
    {
      "cell_type": "code",
      "source": [
        "def meals():\n",
        "    global total_bill  # Declare total_bill as global\n",
        "    print(\"Welcome to Meals Section \\nWhat type of Meals you want like \\n1. Dum Biriyani  \\n2. Veg Biriyani \\n3. Full Veg meals \\n4. Full Non Veg meals\")\n",
        "\n",
        "    a = int(input(\"Enter the Meals you would like in (1-4): \"))\n",
        "\n",
        "    # Determine item and price based on user input\n",
        "    if a == 1:\n",
        "        price = 100\n",
        "        item = \"Dum Biriyani\"\n",
        "    elif a == 2:\n",
        "        price = 80\n",
        "        item = \"Veg Biriyani\"\n",
        "    elif a == 3:\n",
        "        price = 120\n",
        "        item = \"Full Veg meals\"\n",
        "    elif a == 4:\n",
        "        price = 150\n",
        "        item = \"Full Non Veg meals\"\n",
        "    else:\n",
        "        print(\"Invalid input\")\n",
        "        return\n",
        "\n",
        "    # Get the quantity and calculate the total cost for the current item\n",
        "    b = int(input(\"Enter the quantity you would like: \"))\n",
        "    bill = b * price\n",
        "\n",
        "    # Update the total bill and append the item to the cart\n",
        "    total_bill += bill\n",
        "    cart_items.append(f\"{item} x{b} = {bill}\")\n",
        "\n",
        "    # Output the added item, total price for that item, and the updated total bill\n",
        "    print(f\"Added {item} x{b} to cart. Total price for this item: {bill}\")\n",
        "    print(f\"Current total bill: {total_bill}\")\n",
        "\n",
        "# Example usage:\n",
        "meals()\n"
      ],
      "metadata": {
        "colab": {
          "base_uri": "https://localhost:8080/"
        },
        "id": "yH5b53Pedmk6",
        "outputId": "9381cd56-9bbb-4461-e5cd-4a060e979e9d"
      },
      "execution_count": 47,
      "outputs": [
        {
          "output_type": "stream",
          "name": "stdout",
          "text": [
            "Welcome to Meals Section \n",
            "What type of Meals you want like \n",
            "1. Dum Biriyani  \n",
            "2. Veg Biriyani \n",
            "3. Full Veg meals \n",
            "4. Full Non Veg meals\n",
            "Enter the Meals you would like in (1-4): 2\n",
            "Enter the quantity you would like: 6\n",
            "Added Veg Biriyani x6 to cart. Total price for this item: 480\n",
            "Current total bill: 585\n"
          ]
        }
      ]
    },
    {
      "cell_type": "code",
      "source": [
        "def Juice():\n",
        "    global total_bill  # Declare total_bill as global\n",
        "    print(\"Welcome to Juice Section \\nWhat type of juice you want like \\n1. Pomegranate \\n2. Apple \\n3. Banana \\n4. Mango\")\n",
        "\n",
        "    a = int(input(\"Enter the juice you would like in (1-4): \"))\n",
        "\n",
        "    # Determine item and price based on user input\n",
        "    if a == 1:\n",
        "        price = 70\n",
        "        item = \"Pomegranate Juice\"\n",
        "    elif a == 2:\n",
        "        price = 60\n",
        "        item = \"Apple Juice\"\n",
        "    elif a == 3:\n",
        "        price = 40\n",
        "        item = \"Banana Juice\"\n",
        "    elif a == 4:\n",
        "        price = 50\n",
        "        item = \"Mango Juice\"\n",
        "    else:\n",
        "        print(\"Invalid input\")\n",
        "        return\n",
        "\n",
        "    # Get the quantity and calculate the total cost for the current item\n",
        "    b = int(input(\"Enter the quantity you would like: \"))\n",
        "    bill = b * price\n",
        "\n",
        "    # Update the total bill and append the item to the cart\n",
        "    total_bill += bill\n",
        "    cart_items.append(f\"{item} x{b} = {bill}\")\n",
        "\n",
        "    # Output the added item, total price for that item, and the updated total bill\n",
        "    print(f\"Added {item} x{b} to cart. Total price for this item: {bill}\")\n",
        "    print(f\"Current total bill: {total_bill}\")\n",
        "\n",
        "# Example usage:\n",
        "Juice()\n"
      ],
      "metadata": {
        "colab": {
          "base_uri": "https://localhost:8080/"
        },
        "id": "qdePCNUpdmoi",
        "outputId": "05530dc7-1f0c-46b7-e5d9-42d35f948027"
      },
      "execution_count": 48,
      "outputs": [
        {
          "output_type": "stream",
          "name": "stdout",
          "text": [
            "Welcome to Juice Section \n",
            "What type of juice you want like \n",
            "1. Pomegranate \n",
            "2. Apple \n",
            "3. Banana \n",
            "4. Mango\n",
            "Enter the juice you would like in (1-4): 4\n",
            "Enter the quantity you would like: 2\n",
            "Added Mango Juice x2 to cart. Total price for this item: 100\n",
            "Current total bill: 685\n"
          ]
        }
      ]
    },
    {
      "cell_type": "code",
      "source": [
        "def snacks():\n",
        "    global total_bill  # Declare total_bill as global\n",
        "    print(\"Welcome to Snacks Section \\nWhat type of snacks you want like \\n1. Pizza  \\n2. Burger \\n3. Noodles \\n4. Puff\")\n",
        "\n",
        "    a = int(input(\"Enter the snacks you would like in (1-4): \"))\n",
        "\n",
        "    # Determine item and price based on user input\n",
        "    if a == 1:\n",
        "        price = 100\n",
        "        item = \"Pizza\"\n",
        "    elif a == 2:\n",
        "        price = 80\n",
        "        item = \"Burger\"\n",
        "    elif a == 3:\n",
        "        price = 120\n",
        "        item = \"Noodles\"\n",
        "    elif a == 4:\n",
        "        price = 150\n",
        "        item = \"Puff\"\n",
        "    else:\n",
        "        print(\"Invalid input\")\n",
        "        return\n",
        "\n",
        "    # Get the quantity and calculate the total cost for the current item\n",
        "    b = int(input(\"Enter the quantity you would like: \"))\n",
        "    bill = b * price\n",
        "\n",
        "    # Update the total bill and append the item to the cart\n",
        "    total_bill += bill\n",
        "    cart_items.append(f\"{item} x{b} = {bill}\")\n",
        "\n",
        "    # Output the added item, total price for that item, and the updated total bill\n",
        "    print(f\"Added {item} x{b} to cart. Total price for this item: {bill}\")\n",
        "    print(f\"Current total bill: {total_bill}\")\n",
        "\n",
        "# Example usage:\n",
        "snacks()\n"
      ],
      "metadata": {
        "colab": {
          "base_uri": "https://localhost:8080/"
        },
        "id": "gnPxhuCLdmsH",
        "outputId": "96728952-10a8-4cd2-9505-7e43a6b6fb81"
      },
      "execution_count": 49,
      "outputs": [
        {
          "output_type": "stream",
          "name": "stdout",
          "text": [
            "Welcome to Snacks Section \n",
            "What type of snacks you want like \n",
            "1. Pizza  \n",
            "2. Burger \n",
            "3. Noodles \n",
            "4. Puff\n",
            "Enter the snacks you would like in (1-4): 3\n",
            "Enter the quantity you would like: 1\n",
            "Added Noodles x1 to cart. Total price for this item: 120\n",
            "Current total bill: 805\n"
          ]
        }
      ]
    },
    {
      "cell_type": "code",
      "source": [
        "cart_items = []\n",
        "total_bill = 0\n",
        "\n",
        "def meals():\n",
        "    global total_bill\n",
        "    print(\"Welcome to Meals Section\")\n",
        "    print(\"What type of Meals you want like:\")\n",
        "    print(\"1. Dum Biriyani\")\n",
        "    print(\"2. Veg Biriyani\")\n",
        "    print(\"3. Full Veg meals\")\n",
        "    print(\"4. Full Non Veg meals\")\n",
        "\n",
        "    try:\n",
        "        a = int(input(\"Enter the Meals you would like (1-4): \"))\n",
        "        if a == 1:\n",
        "            price = 100\n",
        "            item = \"Dum Biriyani\"\n",
        "        elif a == 2:\n",
        "            price = 80\n",
        "            item = \"Veg Biriyani\"\n",
        "        elif a == 3:\n",
        "            price = 120\n",
        "            item = \"Full Veg meals\"\n",
        "        elif a == 4:\n",
        "            price = 150\n",
        "            item = \"Full Non Veg meals\"\n",
        "        else:\n",
        "            print(\"Invalid input. Please enter a number between 1 and 4.\")\n",
        "            return\n",
        "\n",
        "        b = int(input(\"Enter the quantity you would like: \"))\n",
        "        if b <= 0:\n",
        "            print(\"Quantity should be at least 1.\")\n",
        "            return\n",
        "\n",
        "        bill = b * price\n",
        "        total_bill += bill\n",
        "        cart_items.append(f\"{item} x{b} = {bill}\")\n",
        "        print(f\"Added {item} x{b} to cart. Total price: {bill}\")\n",
        "\n",
        "    except ValueError:\n",
        "        print(\"Invalid input. Please enter numeric values only.\")\n",
        "\n",
        "# Call the function to run it\n",
        "meals()\n",
        "\n"
      ],
      "metadata": {
        "colab": {
          "base_uri": "https://localhost:8080/"
        },
        "id": "eXJ2fu9Hdm2c",
        "outputId": "8ce773f1-45e1-4700-aa62-b69db6bc0250"
      },
      "execution_count": 53,
      "outputs": [
        {
          "output_type": "stream",
          "name": "stdout",
          "text": [
            "Welcome to Meals Section\n",
            "What type of Meals you want like:\n",
            "1. Dum Biriyani\n",
            "2. Veg Biriyani\n",
            "3. Full Veg meals\n",
            "4. Full Non Veg meals\n",
            "Enter the Meals you would like (1-4): 4\n",
            "Enter the quantity you would like: 2\n",
            "Added Full Non Veg meals x2 to cart. Total price: 300\n"
          ]
        }
      ]
    },
    {
      "cell_type": "code",
      "source": [
        "cart_items = []\n",
        "total_bill = 0\n",
        "\n",
        "def Juice():\n",
        "    global total_bill\n",
        "    print(\"Welcome to Juice Section \\nWhat type of juice you want like \\n1. Pomegranate  \\n2. Apple \\n3. Banana \\n4. Mango\")\n",
        "\n",
        "    try:\n",
        "        a = int(input(\"Enter the juice you would like in (1-4): \"))\n",
        "    except ValueError:\n",
        "        print(\"Invalid input! Please enter a number between 1 and 4.\")\n",
        "        return\n",
        "\n",
        "    if a == 1:\n",
        "        price = 70\n",
        "        item = \"Pomegranate Juice\"\n",
        "    elif a == 2:\n",
        "        price = 60\n",
        "        item = \"Apple Juice\"\n",
        "    elif a == 3:\n",
        "        price = 40\n",
        "        item = \"Banana Juice\"\n",
        "    elif a == 4:\n",
        "        price = 50\n",
        "        item = \"Mango Juice\"\n",
        "    else:\n",
        "        print(\"Invalid input! Please enter a number between 1 and 4.\")\n",
        "        return\n",
        "\n",
        "    try:\n",
        "        b = int(input(\"Enter the quantity you would like: \"))\n",
        "        if b <= 0:\n",
        "            print(\"Quantity should be a positive number.\")\n",
        "            return\n",
        "    except ValueError:\n",
        "        print(\"Invalid input! Please enter a positive integer for quantity.\")\n",
        "        return\n",
        "\n",
        "    bill = b * price\n",
        "    total_bill += bill\n",
        "    cart_items.append(f\"{item} x{b} = {bill}\")\n",
        "    print(f\"Added {item} x{b} to cart. Total price for this item: {bill}\")\n",
        "    print(f\"Current total bill: {total_bill}\")\n",
        "\n",
        "# Call the function to see output\n",
        "Juice()\n"
      ],
      "metadata": {
        "colab": {
          "base_uri": "https://localhost:8080/"
        },
        "id": "D0BaGYE9f4TG",
        "outputId": "17eb4ae1-f752-4bd9-9c8f-22a3bc3de618"
      },
      "execution_count": 56,
      "outputs": [
        {
          "output_type": "stream",
          "name": "stdout",
          "text": [
            "Welcome to Juice Section \n",
            "What type of juice you want like \n",
            "1. Pomegranate  \n",
            "2. Apple \n",
            "3. Banana \n",
            "4. Mango\n",
            "Enter the juice you would like in (1-4): 2\n",
            "Enter the quantity you would like: 4\n",
            "Added Apple Juice x4 to cart. Total price for this item: 240\n",
            "Current total bill: 240\n"
          ]
        }
      ]
    },
    {
      "cell_type": "code",
      "source": [
        "cart_items = []\n",
        "total_bill = 0\n",
        "\n",
        "def snacks():\n",
        "    global total_bill\n",
        "    print(\"Welcome to Snacks Section \\nWhat type of snacks you want like \\n1. Pizza  \\n2. Burger \\n3. Noodles \\n4. Puff\")\n",
        "\n",
        "    try:\n",
        "        a = int(input(\"Enter the snacks you would like in (1-4): \"))\n",
        "    except ValueError:\n",
        "        print(\"Invalid input! Please enter a number between 1 and 4.\")\n",
        "        return\n",
        "\n",
        "    if a == 1:\n",
        "        price = 100\n",
        "        item = \"Pizza\"\n",
        "    elif a == 2:\n",
        "        price = 80\n",
        "        item = \"Burger\"\n",
        "    elif a == 3:\n",
        "        price = 120\n",
        "        item = \"Noodles\"\n",
        "    elif a == 4:\n",
        "        price = 150\n",
        "        item = \"Puff\"\n",
        "    else:\n",
        "        print(\"Invalid input! Please enter a number between 1 and 4.\")\n",
        "        return\n",
        "\n",
        "    try:\n",
        "        b = int(input(\"Enter the quantity you would like: \"))\n",
        "        if b <= 0:\n",
        "            print(\"Quantity should be a positive number.\")\n",
        "            return\n",
        "    except ValueError:\n",
        "        print(\"Invalid input! Please enter a positive integer for quantity.\")\n",
        "        return\n",
        "\n",
        "    bill = b * price\n",
        "    total_bill += bill\n",
        "    cart_items.append(f\"{item} x{b} = {bill}\")\n",
        "    print(f\"Added {item} x{b} to cart. Total price for this item: {bill}\")\n",
        "    print(f\"Current total bill: {total_bill}\")\n",
        "\n",
        "# Call the function to see output\n",
        "snacks()\n",
        "8"
      ],
      "metadata": {
        "colab": {
          "base_uri": "https://localhost:8080/"
        },
        "id": "YhDD3_wQgGAg",
        "outputId": "01d85042-3ff9-4696-8d2a-ecc735ed16ef"
      },
      "execution_count": 58,
      "outputs": [
        {
          "output_type": "stream",
          "name": "stdout",
          "text": [
            "Welcome to Snacks Section \n",
            "What type of snacks you want like \n",
            "1. Pizza  \n",
            "2. Burger \n",
            "3. Noodles \n",
            "4. Puff\n",
            "Enter the snacks you would like in (1-4): 2\n",
            "Enter the quantity you would like: \n",
            "Invalid input! Please enter a positive integer for quantity.\n"
          ]
        }
      ]
    },
    {
      "cell_type": "code",
      "source": [
        "cart_items = []\n",
        "total_bill = 0\n",
        "\n",
        "def snacks():\n",
        "    global total_bill\n",
        "    print(\"Welcome to Snacks Section\")\n",
        "    print(\"What type of snacks you want like:\")\n",
        "    print(\"1. Pizza\")\n",
        "    print(\"2. Burger\")\n",
        "    print(\"3. Noodles\")\n",
        "    print(\"4. Puff\")\n",
        "\n",
        "    a = int(input(\"Enter the snacks you would like (1-4): \"))\n",
        "    if a == 1:\n",
        "        price = 100\n",
        "        item = \"Pizza\"\n",
        "    elif a == 2:\n",
        "        price = 80\n",
        "        item = \"Burger\"\n",
        "    elif a == 3:\n",
        "        price = 120\n",
        "        item = \"Noodles\"\n",
        "    elif a == 4:\n",
        "        price = 150\n",
        "        item = \"Puff\"\n",
        "    else:\n",
        "        print(\"Invalid input\")\n",
        "        return\n",
        "\n",
        "    b = int(input(\"Enter the quantity you would like: \"))\n",
        "    bill = b * price\n",
        "    total_bill += bill\n",
        "    cart_items.append(f\"{item} x{b} = {bill}\")\n",
        "    print(f\"Added {item} x{b} to cart. Total price: {bill}\")\n",
        "\n",
        "# Call the function here to see output\n",
        "snacks()\n",
        "\n"
      ],
      "metadata": {
        "colab": {
          "base_uri": "https://localhost:8080/"
        },
        "id": "GANad9uEgGN_",
        "outputId": "308e2731-9e21-44ab-8eb4-7c20f3a9432c"
      },
      "execution_count": 64,
      "outputs": [
        {
          "output_type": "stream",
          "name": "stdout",
          "text": [
            "Welcome to Snacks Section\n",
            "What type of snacks you want like:\n",
            "1. Pizza\n",
            "2. Burger\n",
            "3. Noodles\n",
            "4. Puff\n",
            "Enter the snacks you would like (1-4): 2\n",
            "Enter the quantity you would like: 79\n",
            "Added Burger x79 to cart. Total price: 6320\n"
          ]
        }
      ]
    },
    {
      "cell_type": "code",
      "source": [],
      "metadata": {
        "id": "M5RVlc1MgGP-"
      },
      "execution_count": null,
      "outputs": []
    },
    {
      "cell_type": "code",
      "source": [],
      "metadata": {
        "id": "rqPPHyZdgGR2"
      },
      "execution_count": null,
      "outputs": []
    }
  ]
}